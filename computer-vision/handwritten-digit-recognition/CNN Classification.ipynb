{
 "cells": [
  {
   "cell_type": "markdown",
   "metadata": {},
   "source": [
    "# Handwritten Digit Classification with CNN\n",
    "This notebook shows how to use a simple convolutional neural network to do image classification. The notebook was written for practice and the original codes were taken from this [tutorial](https://machinelearningmastery.com/handwritten-digit-recognition-using-convolutional-neural-networks-python-keras/).\n",
    "\n",
    "Read more about Keras [here](https://keras.io/)."
   ]
  },
  {
   "cell_type": "code",
   "execution_count": 1,
   "metadata": {},
   "outputs": [
    {
     "name": "stderr",
     "output_type": "stream",
     "text": [
      "Using TensorFlow backend.\n"
     ]
    }
   ],
   "source": [
    "import numpy as np\n",
    "from keras.datasets import mnist\n",
    "from keras.models import Sequential\n",
    "from keras.layers import Dense\n",
    "from keras.layers import Dropout\n",
    "from keras.layers import Flatten\n",
    "from keras.layers.convolutional import Conv2D\n",
    "from keras.layers.convolutional import MaxPooling2D\n",
    "from keras.utils import np_utils\n",
    "from keras import backend as K\n",
    "K.set_image_dim_ordering('th')\n",
    "import matplotlib.pyplot as plt\n",
    "%matplotlib inline"
   ]
  },
  {
   "cell_type": "markdown",
   "metadata": {},
   "source": [
    "First we load the MNIST dataset using a function provided by Keras."
   ]
  },
  {
   "cell_type": "code",
   "execution_count": 2,
   "metadata": {},
   "outputs": [
    {
     "name": "stdout",
     "output_type": "stream",
     "text": [
      "Train dataset features shape: (60000, 28, 28)\n",
      "Train dataset labels shape: (60000,)\n",
      "Test dataset features shape: (10000, 28, 28)\n",
      "Test dataset labels shape: (10000,)\n"
     ]
    },
    {
     "data": {
      "image/png": "[encoded data removed]",
      "text/plain": [
       "<Figure size 432x288 with 4 Axes>"
      ]
     },
     "metadata": {
      "needs_background": "light"
     },
     "output_type": "display_data"
    }
   ],
   "source": [
    "(train_images, train_labels), (test_images, test_labels) = mnist.load_data()\n",
    "print(f'Train dataset features shape: {train_images.shape}')\n",
    "print(f'Train dataset labels shape: {train_labels.shape}')\n",
    "print(f'Test dataset features shape: {test_images.shape}')\n",
    "print(f'Test dataset labels shape: {test_labels.shape}')\n",
    "\n",
    "plt.subplot(221)\n",
    "plt.imshow(train_images[0], cmap=plt.get_cmap('gray'))\n",
    "plt.subplot(222)\n",
    "plt.imshow(train_images[1], cmap=plt.get_cmap('gray'))\n",
    "plt.subplot(223)\n",
    "plt.imshow(train_images[2], cmap=plt.get_cmap('gray'))\n",
    "plt.subplot(224)\n",
    "plt.imshow(train_images[3], cmap=plt.get_cmap('gray'))\n",
    "plt.show()"
   ]
  },
  {
   "cell_type": "markdown",
   "metadata": {},
   "source": [
    "Convolutional layer requires the inputs to be 4D, in the format of either [batch]x[channels]x[rows]x[columns] or [batch]x[rows]x[columns]x[channels]. The default is set to 'channel_last', which is the latter. Since the images in MNIST are in grey-scale, there is only going to be one channel for the input images. Batch represents how many images there are in the dataset for the input layer.\n",
    "\n",
    "You can read more about how Keras' convolutional layer works [here](https://keras.io/layers/convolutional/)."
   ]
  },
  {
   "cell_type": "code",
   "execution_count": 3,
   "metadata": {},
   "outputs": [],
   "source": [
    "train_x = train_images.reshape(train_images.shape[0], 28, 28, 1).astype('float32')\n",
    "test_x = test_images.reshape(test_images.shape[0], 28, 28, 1).astype('float32')"
   ]
  },
  {
   "cell_type": "markdown",
   "metadata": {},
   "source": [
    "We'll also normalize the data, as well as one-shot encode the outputs."
   ]
  },
  {
   "cell_type": "code",
   "execution_count": 4,
   "metadata": {},
   "outputs": [],
   "source": [
    "train_x = train_x / 255\n",
    "test_x = test_x / 255\n",
    "\n",
    "train_y = np_utils.to_categorical(train_labels)\n",
    "test_y = np_utils.to_categorical(test_labels)\n",
    "num_classes = test_y.shape[1]"
   ]
  },
  {
   "cell_type": "markdown",
   "metadata": {},
   "source": [
    "Now, let's define our model."
   ]
  },
  {
   "cell_type": "code",
   "execution_count": 5,
   "metadata": {},
   "outputs": [],
   "source": [
    "def classification_model():\n",
    "    model = Sequential()\n",
    "    model.add(Conv2D(filters=32, kernel_size=(5, 5), input_shape=(28, 28, 1), data_format='channels_last', activation='relu'))\n",
    "    model.add(MaxPooling2D(pool_size=(2, 2)))\n",
    "    model.add(Dropout(0.2))\n",
    "    model.add(Flatten())\n",
    "    model.add(Dense(128, activation='relu'))\n",
    "    model.add(Dense(num_classes, activation='softmax'))\n",
    "    model.compile(loss='categorical_crossentropy', optimizer='adam', metrics=['accuracy'])\n",
    "    return model"
   ]
  },
  {
   "cell_type": "markdown",
   "metadata": {},
   "source": [
    "Now that we have the data and the model, we can start the training process."
   ]
  },
  {
   "cell_type": "code",
   "execution_count": 6,
   "metadata": {},
   "outputs": [
    {
     "name": "stdout",
     "output_type": "stream",
     "text": [
      "Train on 60000 samples, validate on 10000 samples\n",
      "Epoch 1/10\n",
      " - 131s - loss: 0.2386 - acc: 0.9292 - val_loss: 0.0743 - val_acc: 0.9773\n",
      "Epoch 2/10\n",
      " - 130s - loss: 0.0763 - acc: 0.9762 - val_loss: 0.0486 - val_acc: 0.9840\n",
      "Epoch 3/10\n",
      " - 132s - loss: 0.0542 - acc: 0.9827 - val_loss: 0.0403 - val_acc: 0.9877\n",
      "Epoch 4/10\n",
      " - 126s - loss: 0.0417 - acc: 0.9871 - val_loss: 0.0374 - val_acc: 0.9883\n",
      "Epoch 5/10\n",
      " - 127s - loss: 0.0346 - acc: 0.9891 - val_loss: 0.0327 - val_acc: 0.9908\n",
      "Epoch 6/10\n",
      " - 127s - loss: 0.0275 - acc: 0.9913 - val_loss: 0.0360 - val_acc: 0.9889\n",
      "Epoch 7/10\n",
      " - 116s - loss: 0.0245 - acc: 0.9919 - val_loss: 0.0378 - val_acc: 0.9880\n",
      "Epoch 8/10\n",
      " - 127s - loss: 0.0201 - acc: 0.9935 - val_loss: 0.0293 - val_acc: 0.9909\n",
      "Epoch 9/10\n",
      " - 119s - loss: 0.0166 - acc: 0.9944 - val_loss: 0.0462 - val_acc: 0.9857\n",
      "Epoch 10/10\n",
      " - 121s - loss: 0.0147 - acc: 0.9953 - val_loss: 0.0316 - val_acc: 0.9900\n",
      "Error Rate: 1.00%\n"
     ]
    }
   ],
   "source": [
    "model = classification_model()\n",
    "model.fit(train_x, train_y, validation_data=(test_x, test_y), epochs=10, batch_size=200, verbose=2)\n",
    "scores = model.evaluate(test_x, test_y, verbose=0)\n",
    "print('Error Rate: {0:.2f}%'.format(100 - scores[1] * 100))"
   ]
  },
  {
   "cell_type": "markdown",
   "metadata": {},
   "source": [
    "Finally, we can use the trained model to do predictions."
   ]
  },
  {
   "cell_type": "code",
   "execution_count": 7,
   "metadata": {},
   "outputs": [],
   "source": [
    "pred_probs = model.predict(test_x)\n",
    "pred_labels = np.argmax(pred_probs, axis=1)"
   ]
  },
  {
   "cell_type": "markdown",
   "metadata": {},
   "source": [
    "Randomly pick an image from the test dataset."
   ]
  },
  {
   "cell_type": "code",
   "execution_count": 8,
   "metadata": {},
   "outputs": [
    {
     "name": "stdout",
     "output_type": "stream",
     "text": [
      "Predicted label: 8\n"
     ]
    },
    {
     "data": {
      "image/png": "[encoded data removed]",
      "text/plain": [
       "<Figure size 432x288 with 1 Axes>"
      ]
     },
     "metadata": {
      "needs_background": "light"
     },
     "output_type": "display_data"
    }
   ],
   "source": [
    "num_test = test_images.shape[0]\n",
    "rand_index = np.random.randint(num_test)\n",
    "print(f'Predicted label: {pred_labels[rand_index]}')\n",
    "\n",
    "plt.imshow(test_images[rand_index])\n",
    "plt.show()"
   ]
  },
  {
   "cell_type": "markdown",
   "metadata": {},
   "source": [
    "Let's test a larger network to see if we can get a better result."
   ]
  },
  {
   "cell_type": "code",
   "execution_count": 9,
   "metadata": {},
   "outputs": [],
   "source": [
    "def larger_classification_model():\n",
    "    model = Sequential()\n",
    "    model.add(Conv2D(30, (5, 5), input_shape=(28, 28, 1), data_format='channels_last', activation='relu'))\n",
    "    model.add(MaxPooling2D(pool_size=(2, 2)))\n",
    "    model.add(Conv2D(15, (3, 3), activation='relu'))\n",
    "    model.add(MaxPooling2D(pool_size=(2, 2)))\n",
    "    model.add(Dropout(0.2))\n",
    "    model.add(Flatten())\n",
    "    model.add(Dense(128, activation='relu'))\n",
    "    model.add(Dense(50, activation='relu'))\n",
    "    model.add(Dense(num_classes, activation='softmax'))\n",
    "    model.compile(loss='categorical_crossentropy', optimizer='adam', metrics=['accuracy'])\n",
    "    return model"
   ]
  },
  {
   "cell_type": "code",
   "execution_count": 10,
   "metadata": {},
   "outputs": [
    {
     "name": "stdout",
     "output_type": "stream",
     "text": [
      "Train on 60000 samples, validate on 10000 samples\n",
      "Epoch 1/10\n",
      " - 112s - loss: 0.4664 - acc: 0.8562 - val_loss: 0.1484 - val_acc: 0.9541\n",
      "Epoch 2/10\n",
      " - 119s - loss: 0.1535 - acc: 0.9531 - val_loss: 0.0892 - val_acc: 0.9725\n",
      "Epoch 3/10\n",
      " - 113s - loss: 0.1069 - acc: 0.9674 - val_loss: 0.0685 - val_acc: 0.9783\n",
      "Epoch 4/10\n",
      " - 110s - loss: 0.0836 - acc: 0.9743 - val_loss: 0.0603 - val_acc: 0.9816\n",
      "Epoch 5/10\n",
      " - 110s - loss: 0.0693 - acc: 0.9784 - val_loss: 0.0469 - val_acc: 0.9845\n",
      "Epoch 6/10\n",
      " - 111s - loss: 0.0605 - acc: 0.9810 - val_loss: 0.0509 - val_acc: 0.9838\n",
      "Epoch 7/10\n",
      " - 111s - loss: 0.0547 - acc: 0.9825 - val_loss: 0.0463 - val_acc: 0.9839\n",
      "Epoch 8/10\n",
      " - 114s - loss: 0.0491 - acc: 0.9842 - val_loss: 0.0380 - val_acc: 0.9867\n",
      "Epoch 9/10\n",
      " - 113s - loss: 0.0446 - acc: 0.9858 - val_loss: 0.0406 - val_acc: 0.9870\n",
      "Epoch 10/10\n",
      " - 110s - loss: 0.0406 - acc: 0.9872 - val_loss: 0.0393 - val_acc: 0.9863\n",
      "Error Rate: 1.37%\n"
     ]
    }
   ],
   "source": [
    "model_2 = larger_classification_model()\n",
    "model_2.fit(train_x, train_y, validation_data=(test_x, test_y), epochs=10, batch_size=200, verbose=2)\n",
    "scores = model_2.evaluate(test_x, test_y, verbose=0)\n",
    "print('Error Rate: {0:.2f}%'.format(100 - scores[1] * 100))"
   ]
  },
  {
   "cell_type": "markdown",
   "metadata": {},
   "source": [
    "Here we see that the second model actually has higher error rate than the previous one. There are many optimization techniques that we could use to improve a network's performance that we have not used here. From observation, it seems that a simply network is enough to classify MNIST images pretty well. As the features and classification task grow more complex (i.e. larger number of labels and complicated objects), we will need more larger network to achieve high accuracy."
   ]
  },
  {
   "cell_type": "code",
   "execution_count": null,
   "metadata": {},
   "outputs": [],
   "source": []
  }
 ],
 "metadata": {
  "kernelspec": {
   "display_name": "Python 3",
   "language": "python",
   "name": "python3"
  },
  "language_info": {
   "codemirror_mode": {
    "name": "ipython",
    "version": 3
   },
   "file_extension": ".py",
   "mimetype": "text/x-python",
   "name": "python",
   "nbconvert_exporter": "python",
   "pygments_lexer": "ipython3",
   "version": "3.6.7"
  }
 },
 "nbformat": 4,
 "nbformat_minor": 2
}
