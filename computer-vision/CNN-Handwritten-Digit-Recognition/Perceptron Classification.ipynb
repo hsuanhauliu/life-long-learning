{
 "cells": [
  {
   "cell_type": "markdown",
   "metadata": {},
   "source": [
    "# Handwritten Digit Classification with Multi-layer Perceptron\n",
    "This notebook shows how to use a simple neural network to do image classification. The notebook was written for practice and the original codes were taken from this [tutorial](https://machinelearningmastery.com/handwritten-digit-recognition-using-convolutional-neural-networks-python-keras/).\n",
    "\n",
    "Read more about Keras [here](https://keras.io/)."
   ]
  },
  {
   "cell_type": "code",
   "execution_count": 1,
   "metadata": {},
   "outputs": [
    {
     "name": "stderr",
     "output_type": "stream",
     "text": [
      "Using TensorFlow backend.\n"
     ]
    }
   ],
   "source": [
    "import numpy as np\n",
    "from keras.datasets import mnist\n",
    "from keras.models import Sequential\n",
    "from keras.layers import Dense\n",
    "from keras.utils import np_utils\n",
    "import matplotlib.pyplot as plt\n",
    "%matplotlib inline"
   ]
  },
  {
   "cell_type": "markdown",
   "metadata": {},
   "source": [
    "First we load the MNIST dataset using a function provided by Keras."
   ]
  },
  {
   "cell_type": "code",
   "execution_count": 2,
   "metadata": {},
   "outputs": [
    {
     "name": "stdout",
     "output_type": "stream",
     "text": [
      "Train dataset features shape: (60000, 28, 28)\n",
      "Train dataset labels shape: (60000,)\n",
      "Test dataset features shape: (10000, 28, 28)\n",
      "Test dataset labels shape: (10000,)\n"
     ]
    },
    {
     "data": {
      "image/png": "[encoded data removed]",
      "text/plain": [
       "<Figure size 432x288 with 4 Axes>"
      ]
     },
     "metadata": {
      "needs_background": "light"
     },
     "output_type": "display_data"
    }
   ],
   "source": [
    "(train_images, train_labels), (test_images, test_labels) = mnist.load_data()\n",
    "print(f'Train dataset features shape: {train_images.shape}')\n",
    "print(f'Train dataset labels shape: {train_labels.shape}')\n",
    "print(f'Test dataset features shape: {test_images.shape}')\n",
    "print(f'Test dataset labels shape: {test_labels.shape}')\n",
    "\n",
    "plt.subplot(221)\n",
    "plt.imshow(train_images[0], cmap=plt.get_cmap('gray'))\n",
    "plt.subplot(222)\n",
    "plt.imshow(train_images[1], cmap=plt.get_cmap('gray'))\n",
    "plt.subplot(223)\n",
    "plt.imshow(train_images[2], cmap=plt.get_cmap('gray'))\n",
    "plt.subplot(224)\n",
    "plt.imshow(train_images[3], cmap=plt.get_cmap('gray'))\n",
    "plt.show()"
   ]
  },
  {
   "cell_type": "markdown",
   "metadata": {},
   "source": [
    "Since we are using a regular perceptron, we need to flatten the input images."
   ]
  },
  {
   "cell_type": "code",
   "execution_count": 3,
   "metadata": {},
   "outputs": [],
   "source": [
    "num_pixels = train_images.shape[1] * train_images.shape[2]\n",
    "train_x = train_images.reshape(train_images.shape[0], num_pixels).astype('float32')\n",
    "test_x = test_images.reshape(test_images.shape[0], num_pixels).astype('float32')"
   ]
  },
  {
   "cell_type": "markdown",
   "metadata": {},
   "source": [
    "For image classification, it's always a good idea to normalize the data for better convergence and faster training time."
   ]
  },
  {
   "cell_type": "code",
   "execution_count": 4,
   "metadata": {},
   "outputs": [],
   "source": [
    "train_x = train_x / 255\n",
    "test_x = test_x / 255"
   ]
  },
  {
   "cell_type": "markdown",
   "metadata": {},
   "source": [
    "We will use one-hot encoding for output prediction."
   ]
  },
  {
   "cell_type": "code",
   "execution_count": 5,
   "metadata": {},
   "outputs": [],
   "source": [
    "train_y = np_utils.to_categorical(train_labels)\n",
    "test_y = np_utils.to_categorical(test_labels)\n",
    "num_classes = test_y.shape[1]"
   ]
  },
  {
   "cell_type": "markdown",
   "metadata": {},
   "source": [
    "Now, let's define our model. As mentioned before, we're using a multi-layer perceptron for classification. This simple model only consists of one hidden layer."
   ]
  },
  {
   "cell_type": "code",
   "execution_count": 6,
   "metadata": {},
   "outputs": [],
   "source": [
    "def classification_model():\n",
    "    model = Sequential()\n",
    "    model.add(Dense(num_pixels, input_dim=num_pixels, kernel_initializer='normal', activation='relu'))\n",
    "    model.add(Dense(num_classes, kernel_initializer='normal', activation='softmax'))\n",
    "    model.compile(loss='categorical_crossentropy', optimizer='adam', metrics=['accuracy'])\n",
    "    return model"
   ]
  },
  {
   "cell_type": "markdown",
   "metadata": {},
   "source": [
    "Now that we have the data and the model, we can start the training process."
   ]
  },
  {
   "cell_type": "code",
   "execution_count": 7,
   "metadata": {},
   "outputs": [
    {
     "name": "stdout",
     "output_type": "stream",
     "text": [
      "Train on 60000 samples, validate on 10000 samples\n",
      "Epoch 1/10\n",
      " - 6s - loss: 0.2793 - acc: 0.9209 - val_loss: 0.1344 - val_acc: 0.9601\n",
      "Epoch 2/10\n",
      " - 5s - loss: 0.1088 - acc: 0.9693 - val_loss: 0.0984 - val_acc: 0.9703\n",
      "Epoch 3/10\n",
      " - 5s - loss: 0.0705 - acc: 0.9794 - val_loss: 0.0816 - val_acc: 0.9743\n",
      "Epoch 4/10\n",
      " - 5s - loss: 0.0498 - acc: 0.9856 - val_loss: 0.0798 - val_acc: 0.9747\n",
      "Epoch 5/10\n",
      " - 5s - loss: 0.0363 - acc: 0.9895 - val_loss: 0.0710 - val_acc: 0.9778\n",
      "Epoch 6/10\n",
      " - 5s - loss: 0.0260 - acc: 0.9930 - val_loss: 0.0639 - val_acc: 0.9802\n",
      "Epoch 7/10\n",
      " - 5s - loss: 0.0190 - acc: 0.9956 - val_loss: 0.0554 - val_acc: 0.9827\n",
      "Epoch 8/10\n",
      " - 5s - loss: 0.0138 - acc: 0.9971 - val_loss: 0.0622 - val_acc: 0.9807\n",
      "Epoch 9/10\n",
      " - 5s - loss: 0.0101 - acc: 0.9981 - val_loss: 0.0628 - val_acc: 0.9823\n",
      "Epoch 10/10\n",
      " - 5s - loss: 0.0076 - acc: 0.9986 - val_loss: 0.0592 - val_acc: 0.9821\n",
      "Error Rate: 1.79%\n"
     ]
    }
   ],
   "source": [
    "model = classification_model()\n",
    "model.fit(train_x, train_y, validation_data=(test_x, test_y), epochs=10, batch_size=200, verbose=2)\n",
    "scores = model.evaluate(test_x, test_y, verbose=0)\n",
    "print('Error Rate: {0:.2f}%'.format(100 - scores[1] * 100))"
   ]
  },
  {
   "cell_type": "markdown",
   "metadata": {},
   "source": [
    "Finally, we can use the trained model to do predictions."
   ]
  },
  {
   "cell_type": "code",
   "execution_count": 8,
   "metadata": {},
   "outputs": [],
   "source": [
    "pred_probs = model.predict(test_x)\n",
    "pred_labels = np.argmax(pred_probs, axis=1)"
   ]
  },
  {
   "cell_type": "markdown",
   "metadata": {},
   "source": [
    "Let's pick a random image from the test dataset and check its performance."
   ]
  },
  {
   "cell_type": "code",
   "execution_count": 9,
   "metadata": {},
   "outputs": [
    {
     "name": "stdout",
     "output_type": "stream",
     "text": [
      "Predicted label: 2\n"
     ]
    },
    {
     "data": {
      "image/png": "[encoded data removed]",
      "text/plain": [
       "<Figure size 432x288 with 1 Axes>"
      ]
     },
     "metadata": {
      "needs_background": "light"
     },
     "output_type": "display_data"
    }
   ],
   "source": [
    "num_test = test_images.shape[0]\n",
    "rand_index = np.random.randint(num_test)\n",
    "print(f'Predicted label: {pred_labels[rand_index]}')\n",
    "\n",
    "plt.imshow(test_images[rand_index])\n",
    "plt.show()"
   ]
  },
  {
   "cell_type": "code",
   "execution_count": null,
   "metadata": {},
   "outputs": [],
   "source": []
  }
 ],
 "metadata": {
  "kernelspec": {
   "display_name": "Python 3",
   "language": "python",
   "name": "python3"
  },
  "language_info": {
   "codemirror_mode": {
    "name": "ipython",
    "version": 3
   },
   "file_extension": ".py",
   "mimetype": "text/x-python",
   "name": "python",
   "nbconvert_exporter": "python",
   "pygments_lexer": "ipython3",
   "version": "3.6.7"
  }
 },
 "nbformat": 4,
 "nbformat_minor": 2
}
