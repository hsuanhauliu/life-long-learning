{
 "cells": [
  {
   "cell_type": "markdown",
   "metadata": {},
   "source": [
    "# Lloyd's Algorithm\n",
    "\n",
    "K-means clustering is a technique used in unsupervised learning to classify data into *k* different groups. The most famous algorithm used for k-means clustering is called Lloyd's algorithm, which is often confused as **the k-mean algorithm**.\n",
    "\n",
    "Lloyd's algorithm is actually fairly straightforward. It consists of 4 steps:\n",
    "1. Initialize *k* arbitrary starting points (μ1 ... μk), where k is the number of groups.\n",
    "2. Classify closest points to μk as the its group.\n",
    "3. For each group k, re-calculate a new μk.\n",
    "4. Repeat step 2 & 3 until μk converges.\n",
    "\n",
    "Basically, we want to find the best center points for each group. Using those center points, the data closest to them will be grouped as its group."
   ]
  },
  {
   "cell_type": "code",
   "execution_count": 1,
   "metadata": {},
   "outputs": [],
   "source": [
    "# Import some useful libraries before we begin\n",
    "import numpy as np\n",
    "import pylab as plt"
   ]
  },
  {
   "cell_type": "markdown",
   "metadata": {},
   "source": [
    "As always, we can't do any machine learning task without data. Let's first generate some data that is suitable for this exercise."
   ]
  },
  {
   "cell_type": "code",
   "execution_count": 2,
   "metadata": {},
   "outputs": [
    {
     "data": {
      "image/png": "[encoded data removed]",
      "text/plain": [
       "<Figure size 432x288 with 1 Axes>"
      ]
     },
     "metadata": {},
     "output_type": "display_data"
    }
   ],
   "source": [
    "# Group 1\n",
    "x1 = np.random.randint(0, 10, 20)\n",
    "y1 = np.random.randint(0, 10, 20)\n",
    "\n",
    "# Group 2\n",
    "x2 = np.random.randint(15, 25, 20)\n",
    "y2 = np.random.randint(0, 10, 20)\n",
    "\n",
    "# Group 3\n",
    "x3 = np.random.randint(10, 20, 20)\n",
    "y3 = np.random.randint(15, 25, 20)\n",
    "\n",
    "data_range = [(0, 25), (0, 25)]\n",
    "\n",
    "# plot the data out\n",
    "plt.scatter(x1, y1)\n",
    "plt.scatter(x2, y2)\n",
    "plt.scatter(x3, y3)\n",
    "plt.show()"
   ]
  },
  {
   "cell_type": "markdown",
   "metadata": {},
   "source": [
    "Note that in the example above, each sample is labelled. However, when doing unsupervised learning, we often don't have labelled data (if we do, it would be meaningless to do unsupervised learning...). Since the data will be unlabelled, the plot would look more like below."
   ]
  },
  {
   "cell_type": "code",
   "execution_count": 3,
   "metadata": {},
   "outputs": [
    {
     "data": {
      "image/png": "[encoded data removed]",
      "text/plain": [
       "<Figure size 432x288 with 1 Axes>"
      ]
     },
     "metadata": {},
     "output_type": "display_data"
    }
   ],
   "source": [
    "all_x = np.concatenate((x1, x2, x3))\n",
    "all_y = np.concatenate((y1, y2, y3))\n",
    "all_data = list(zip(all_x, all_y))\n",
    "\n",
    "plt.scatter(all_x, all_y)\n",
    "plt.show()"
   ]
  },
  {
   "cell_type": "markdown",
   "metadata": {},
   "source": [
    "We will cheat here by setting k = 3 for demonstration purposes. In practice, we often don't know what k is and must tune and try to get the best result. Therefore, k is a *hyperparameter*.\n",
    "\n",
    "## Step 1: Initialize μ's"
   ]
  },
  {
   "cell_type": "code",
   "execution_count": 4,
   "metadata": {},
   "outputs": [],
   "source": [
    "# k = number of points\n",
    "# bound = the range for each dimension; dtype = list of tuples containing min and max\n",
    "def initialize_mu(k, bounds):\n",
    "    mus = [] # a list of mus we will generate\n",
    "    \n",
    "    for i in range(k):\n",
    "        mu = tuple(np.random.randint(mi, ma) for mi, ma in bounds)\n",
    "        while mu in mus:\n",
    "            mu = tuple(np.random.randint(mi, ma) for mi, ma in bounds)\n",
    "        mus.append(mu)\n",
    "    \n",
    "    return mus\n",
    "\n",
    "k = 3\n",
    "mus = initialize_mu(k, data_range)"
   ]
  },
  {
   "cell_type": "markdown",
   "metadata": {},
   "source": [
    "Let's plot out the points so we can see better visually."
   ]
  },
  {
   "cell_type": "code",
   "execution_count": 5,
   "metadata": {},
   "outputs": [
    {
     "data": {
      "image/png": "[encoded data removed]",
      "text/plain": [
       "<Figure size 432x288 with 1 Axes>"
      ]
     },
     "metadata": {},
     "output_type": "display_data"
    }
   ],
   "source": [
    "mus_x = [point[0] for point in mus]\n",
    "mus_y = [point[1] for point in mus]\n",
    "\n",
    "plt.scatter(all_x, all_y)\n",
    "plt.scatter(mus_x, mus_y, color='red')\n",
    "plt.show()"
   ]
  },
  {
   "cell_type": "markdown",
   "metadata": {},
   "source": [
    "Now that we have initialized our starting μ's and a set of data, we can start implementing Lloyd's algorithm. We will use squared distance as our distance function to make things easier."
   ]
  },
  {
   "cell_type": "code",
   "execution_count": 6,
   "metadata": {},
   "outputs": [
    {
     "name": "stdout",
     "output_type": "stream",
     "text": [
      "Initial mu's:\n",
      " [(18, 2), (21, 15), (12, 14)]\n",
      "\n",
      "All our data points:\n",
      " [(3, 9), (4, 0), (9, 7), (6, 1), (1, 6), (6, 0), (9, 0), (9, 1), (6, 6), (3, 8), (3, 7), (8, 8), (5, 8), (3, 5), (0, 9), (5, 3), (7, 9), (3, 0), (2, 9), (9, 9), (17, 2), (24, 0), (19, 5), (15, 7), (21, 1), (16, 3), (20, 7), (22, 2), (23, 6), (18, 0), (15, 7), (16, 4), (16, 0), (18, 5), (22, 0), (22, 6), (22, 4), (15, 0), (15, 1), (16, 4), (14, 22), (17, 21), (17, 21), (12, 21), (17, 20), (12, 21), (19, 19), (19, 19), (13, 17), (10, 21), (10, 23), (10, 19), (15, 15), (13, 18), (19, 18), (13, 19), (12, 16), (12, 19), (14, 20), (10, 23)]\n"
     ]
    }
   ],
   "source": [
    "print(\"Initial mu's:\\n\", mus)\n",
    "print()\n",
    "print(\"All our data points:\\n\", all_data)\n",
    "\n",
    "# Our distance function\n",
    "def squared_distance(point1, point2):\n",
    "    diff = np.asarray(point1) - np.asarray(point2)\n",
    "    return diff.dot(diff)"
   ]
  },
  {
   "cell_type": "markdown",
   "metadata": {},
   "source": [
    "## Step 2: Use μ's to group data.\n",
    "In this step, we will use the current μ's that we have to group data according to our distance function."
   ]
  },
  {
   "cell_type": "code",
   "execution_count": 7,
   "metadata": {},
   "outputs": [],
   "source": [
    "def group_data(mus, data, k, distance_function, display_groups=False):\n",
    "    groups = [[] for i in range(k)] # we have k groups\n",
    "    for data in all_data:\n",
    "        group_num = sorted([(distance_function(mus[i], data), i) for i in range(k)])[0][1]\n",
    "        groups[group_num].append(data)\n",
    "    \n",
    "    # display all groups\n",
    "    if display_groups:\n",
    "        for i in range(k):\n",
    "            print(\"Group\", i, \":\\n\", groups[i])\n",
    "            print()\n",
    "            \n",
    "    return groups"
   ]
  },
  {
   "cell_type": "markdown",
   "metadata": {},
   "source": [
    "## Step 3: Re-calculate μ's.\n",
    "After grouping the data, we calculate new μ's simply by averaging the values in each dimension for each group."
   ]
  },
  {
   "cell_type": "code",
   "execution_count": 8,
   "metadata": {},
   "outputs": [],
   "source": [
    "def update_mus(mus, groups, k):\n",
    "    counter = 0\n",
    "    not_converged = False\n",
    "    for g in groups:\n",
    "        if g:\n",
    "            new_mu = tuple(sum(x) / len(x) for x in zip(*g))\n",
    "            if mus[counter] != new_mu:\n",
    "                not_converged = True\n",
    "                mus[counter] = new_mu\n",
    "        counter += 1\n",
    "    \n",
    "    return not_converged"
   ]
  },
  {
   "cell_type": "markdown",
   "metadata": {},
   "source": [
    "Let's run one iteration to see the changes of μ's."
   ]
  },
  {
   "cell_type": "code",
   "execution_count": 9,
   "metadata": {},
   "outputs": [
    {
     "name": "stdout",
     "output_type": "stream",
     "text": [
      "Group 0 :\n",
      " [(4, 0), (6, 1), (6, 0), (9, 0), (9, 1), (5, 3), (3, 0), (17, 2), (24, 0), (19, 5), (15, 7), (21, 1), (16, 3), (20, 7), (22, 2), (23, 6), (18, 0), (15, 7), (16, 4), (16, 0), (18, 5), (22, 0), (22, 6), (22, 4), (15, 0), (15, 1), (16, 4)]\n",
      "\n",
      "Group 1 :\n",
      " [(17, 21), (17, 21), (17, 20), (19, 19), (19, 19), (19, 18)]\n",
      "\n",
      "Group 2 :\n",
      " [(3, 9), (9, 7), (1, 6), (6, 6), (3, 8), (3, 7), (8, 8), (5, 8), (3, 5), (0, 9), (7, 9), (2, 9), (9, 9), (14, 22), (12, 21), (12, 21), (13, 17), (10, 21), (10, 23), (10, 19), (15, 15), (13, 18), (13, 19), (12, 16), (12, 19), (14, 20), (10, 23)]\n",
      "\n",
      "Converged? False\n"
     ]
    },
    {
     "data": {
      "image/png": "[encoded data removed]",
      "text/plain": [
       "<Figure size 432x288 with 1 Axes>"
      ]
     },
     "metadata": {},
     "output_type": "display_data"
    }
   ],
   "source": [
    "groups = group_data(mus, all_data, k, squared_distance, display_groups=True)\n",
    "not_converged = update_mus(mus, groups, k)\n",
    "print(\"Converged?\", not not_converged)\n",
    "\n",
    "del mus_x[:]\n",
    "del mus_y[:]\n",
    "mus_x = [point[0] for point in mus]\n",
    "mus_y = [point[1] for point in mus]\n",
    "\n",
    "plt.scatter(all_x, all_y)\n",
    "plt.scatter(mus_x, mus_y, color='red')\n",
    "plt.show()"
   ]
  },
  {
   "cell_type": "markdown",
   "metadata": {},
   "source": [
    "## Step 4: Repeat until convergence.\n",
    "Great! Now that we have our working code for step 2 and 3, we can finish up step 4, which is nothing but repeating step 2 & 3 until convergence."
   ]
  },
  {
   "cell_type": "code",
   "execution_count": 10,
   "metadata": {},
   "outputs": [],
   "source": [
    "while not_converged:\n",
    "    groups = group_data(mus, all_data, k, squared_distance)\n",
    "    not_converged = update_mus(mus, groups, k)"
   ]
  },
  {
   "cell_type": "code",
   "execution_count": 11,
   "metadata": {},
   "outputs": [
    {
     "data": {
      "image/png": "[encoded data removed]",
      "text/plain": [
       "<Figure size 432x288 with 1 Axes>"
      ]
     },
     "metadata": {},
     "output_type": "display_data"
    }
   ],
   "source": [
    "del mus_x[:]\n",
    "del mus_y[:]\n",
    "mus_x = [point[0] for point in mus]\n",
    "mus_y = [point[1] for point in mus]\n",
    "\n",
    "plt.scatter(all_x, all_y)\n",
    "plt.scatter(mus_x, mus_y, color='red')\n",
    "plt.show()"
   ]
  },
  {
   "cell_type": "markdown",
   "metadata": {},
   "source": [
    "Seems like the center points have converged. Let us plot out the groups and see the final result."
   ]
  },
  {
   "cell_type": "code",
   "execution_count": 12,
   "metadata": {},
   "outputs": [
    {
     "data": {
      "image/png": "[encoded data removed]",
      "text/plain": [
       "<Figure size 432x288 with 1 Axes>"
      ]
     },
     "metadata": {},
     "output_type": "display_data"
    }
   ],
   "source": [
    "my_groups = group_data(mus, all_data, k, squared_distance)\n",
    "for g in my_groups:\n",
    "    g_x = [point[0] for point in g]\n",
    "    g_y = [point[1] for point in g]\n",
    "    plt.scatter(g_x, g_y)\n",
    "plt.show()"
   ]
  },
  {
   "cell_type": "markdown",
   "metadata": {},
   "source": [
    "Let's combine all steps into one function."
   ]
  },
  {
   "cell_type": "code",
   "execution_count": 13,
   "metadata": {},
   "outputs": [],
   "source": [
    "def Lloyd_algorithm(k, data, data_range, initialize_function, distance_function):\n",
    "    mus = initialize_function(k, data_range)\n",
    "    \n",
    "    not_converged = True\n",
    "    while not_converged:\n",
    "        groups = group_data(mus, all_data, k, distance_function)\n",
    "        not_converged = update_mus(mus, groups, k)\n",
    "        \n",
    "    return mus"
   ]
  },
  {
   "cell_type": "code",
   "execution_count": 14,
   "metadata": {},
   "outputs": [
    {
     "data": {
      "image/png": "[encoded data removed]",
      "text/plain": [
       "<Figure size 432x288 with 1 Axes>"
      ]
     },
     "metadata": {},
     "output_type": "display_data"
    }
   ],
   "source": [
    "mus = Lloyd_algorithm(k, all_data, data_range, initialize_mu, squared_distance)\n",
    "del mus_x[:]\n",
    "del mus_y[:]\n",
    "mus_x = [point[0] for point in mus]\n",
    "mus_y = [point[1] for point in mus]\n",
    "\n",
    "plt.scatter(all_x, all_y)\n",
    "plt.scatter(mus_x, mus_y, color='red')\n",
    "plt.show()"
   ]
  },
  {
   "cell_type": "markdown",
   "metadata": {},
   "source": [
    "Note that even though the algorithm is guaranteed to converged, the result might not be desired. The result of Lloyd's algorithm is affected by the initial μ values. Given a set of μ values, the result is deterministic. Therefore, sometimes it is crucial to pick the appropreicate μ's as starting point. See an example below."
   ]
  },
  {
   "cell_type": "code",
   "execution_count": 15,
   "metadata": {},
   "outputs": [
    {
     "data": {
      "image/png": "[encoded data removed]",
      "text/plain": [
       "<Figure size 432x288 with 1 Axes>"
      ]
     },
     "metadata": {},
     "output_type": "display_data"
    },
    {
     "data": {
      "image/png": "[encoded data removed]",
      "text/plain": [
       "<Figure size 432x288 with 1 Axes>"
      ]
     },
     "metadata": {},
     "output_type": "display_data"
    }
   ],
   "source": [
    "def fixed_mu(k, all_data):\n",
    "    return [(12, 20), (17, 20), (13, 5)]\n",
    "\n",
    "mus = Lloyd_algorithm(k, all_data, data_range, fixed_mu, squared_distance)\n",
    "\n",
    "# first plot\n",
    "del mus_x[:]\n",
    "del mus_y[:]\n",
    "mus_x = [point[0] for point in mus]\n",
    "mus_y = [point[1] for point in mus]\n",
    "\n",
    "plt.scatter(all_x, all_y)\n",
    "plt.scatter(mus_x, mus_y, color='red')\n",
    "plt.show()\n",
    "\n",
    "# second plot\n",
    "my_groups = group_data(mus, all_data, k, squared_distance)\n",
    "for g in my_groups:\n",
    "    g_x = [point[0] for point in g]\n",
    "    g_y = [point[1] for point in g]\n",
    "    plt.scatter(g_x, g_y)\n",
    "plt.show()"
   ]
  },
  {
   "cell_type": "markdown",
   "metadata": {},
   "source": [
    "In conclusion, Lloyd's algorithm is straightforward and easy to implement. Most of the times, it works very well with appropriate k. Arbitrary starting μ values might cause the algorithm to return an undesirable grouping. However, this can be avoided by picking the μ's in a smart way."
   ]
  }
 ],
 "metadata": {
  "kernelspec": {
   "display_name": "Python 3",
   "language": "python",
   "name": "python3"
  },
  "language_info": {
   "codemirror_mode": {
    "name": "ipython",
    "version": 3
   },
   "file_extension": ".py",
   "mimetype": "text/x-python",
   "name": "python",
   "nbconvert_exporter": "python",
   "pygments_lexer": "ipython3",
   "version": "3.6.5"
  }
 },
 "nbformat": 4,
 "nbformat_minor": 2
}
