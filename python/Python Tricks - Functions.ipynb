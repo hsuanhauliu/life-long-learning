{
 "cells": [
  {
   "cell_type": "markdown",
   "metadata": {},
   "source": [
    "# Python Tricks: Functions\n",
    "This notebook showcases some of the features that Python offers which are quite useful.\n",
    "\n",
    "Useful links:\n",
    "- [References](https://docs.python.org/3.6/reference/index.html#reference-index)\n",
    "- [Built-in functions](https://docs.python.org/3.6/library/functions.html)\n",
    "- [Built-in types](https://docs.python.org/3.6/library/stdtypes.html)\n",
    "- [Standard libraries](https://docs.python.org/3.6/library/index.html)"
   ]
  },
  {
   "cell_type": "code",
   "execution_count": 1,
   "metadata": {},
   "outputs": [],
   "source": [
    "# Some variables for later printing.\n",
    "separator_1 = \"========================================================================\\n\"\n",
    "separator_2 = \"\\n========================================================================\""
   ]
  },
  {
   "cell_type": "code",
   "execution_count": 2,
   "metadata": {},
   "outputs": [
    {
     "name": "stdout",
     "output_type": "stream",
     "text": [
      "Help on _Helper in module _sitebuiltins object:\n",
      "\n",
      "class _Helper(builtins.object)\n",
      " |  Define the builtin 'help'.\n",
      " |  \n",
      " |  This is a wrapper around pydoc.help that provides a helpful message\n",
      " |  when 'help' is typed at the Python interactive prompt.\n",
      " |  \n",
      " |  Calling help() at the Python prompt starts an interactive help session.\n",
      " |  Calling help(thing) prints help for the python object 'thing'.\n",
      " |  \n",
      " |  Methods defined here:\n",
      " |  \n",
      " |  __call__(self, *args, **kwds)\n",
      " |      Call self as a function.\n",
      " |  \n",
      " |  __repr__(self)\n",
      " |      Return repr(self).\n",
      " |  \n",
      " |  ----------------------------------------------------------------------\n",
      " |  Data descriptors defined here:\n",
      " |  \n",
      " |  __dict__\n",
      " |      dictionary for instance variables (if defined)\n",
      " |  \n",
      " |  __weakref__\n",
      " |      list of weak references to the object (if defined)\n",
      "\n",
      "========================================================================\n",
      " Define the builtin 'help'.\n",
      "\n",
      "    This is a wrapper around pydoc.help that provides a helpful message\n",
      "    when 'help' is typed at the Python interactive prompt.\n",
      "\n",
      "    Calling help() at the Python prompt starts an interactive help session.\n",
      "    Calling help(thing) prints help for the python object 'thing'.\n",
      "     \n",
      "========================================================================\n"
     ]
    }
   ],
   "source": [
    "# Help: useful function to see the details of the parameter.\n",
    "# __doc__ is also quite useful for taking a quick peak at the object, function, data type, etc.\n",
    "\n",
    "help(help)\n",
    "print(separator_1, help.__doc__, separator_2)"
   ]
  },
  {
   "cell_type": "code",
   "execution_count": 3,
   "metadata": {},
   "outputs": [
    {
     "name": "stdout",
     "output_type": "stream",
     "text": [
      "{'__repr__': <slot wrapper '__repr__' of 'int' objects>, '__hash__': <slot wrapper '__hash__' of 'int' objects>, '__str__': <slot wrapper '__str__' of 'int' objects>, '__getattribute__': <slot wrapper '__getattribute__' of 'int' objects>, '__lt__': <slot wrapper '__lt__' of 'int' objects>, '__le__': <slot wrapper '__le__' of 'int' objects>, '__eq__': <slot wrapper '__eq__' of 'int' objects>, '__ne__': <slot wrapper '__ne__' of 'int' objects>, '__gt__': <slot wrapper '__gt__' of 'int' objects>, '__ge__': <slot wrapper '__ge__' of 'int' objects>, '__add__': <slot wrapper '__add__' of 'int' objects>, '__radd__': <slot wrapper '__radd__' of 'int' objects>, '__sub__': <slot wrapper '__sub__' of 'int' objects>, '__rsub__': <slot wrapper '__rsub__' of 'int' objects>, '__mul__': <slot wrapper '__mul__' of 'int' objects>, '__rmul__': <slot wrapper '__rmul__' of 'int' objects>, '__mod__': <slot wrapper '__mod__' of 'int' objects>, '__rmod__': <slot wrapper '__rmod__' of 'int' objects>, '__divmod__': <slot wrapper '__divmod__' of 'int' objects>, '__rdivmod__': <slot wrapper '__rdivmod__' of 'int' objects>, '__pow__': <slot wrapper '__pow__' of 'int' objects>, '__rpow__': <slot wrapper '__rpow__' of 'int' objects>, '__neg__': <slot wrapper '__neg__' of 'int' objects>, '__pos__': <slot wrapper '__pos__' of 'int' objects>, '__abs__': <slot wrapper '__abs__' of 'int' objects>, '__bool__': <slot wrapper '__bool__' of 'int' objects>, '__invert__': <slot wrapper '__invert__' of 'int' objects>, '__lshift__': <slot wrapper '__lshift__' of 'int' objects>, '__rlshift__': <slot wrapper '__rlshift__' of 'int' objects>, '__rshift__': <slot wrapper '__rshift__' of 'int' objects>, '__rrshift__': <slot wrapper '__rrshift__' of 'int' objects>, '__and__': <slot wrapper '__and__' of 'int' objects>, '__rand__': <slot wrapper '__rand__' of 'int' objects>, '__xor__': <slot wrapper '__xor__' of 'int' objects>, '__rxor__': <slot wrapper '__rxor__' of 'int' objects>, '__or__': <slot wrapper '__or__' of 'int' objects>, '__ror__': <slot wrapper '__ror__' of 'int' objects>, '__int__': <slot wrapper '__int__' of 'int' objects>, '__float__': <slot wrapper '__float__' of 'int' objects>, '__floordiv__': <slot wrapper '__floordiv__' of 'int' objects>, '__rfloordiv__': <slot wrapper '__rfloordiv__' of 'int' objects>, '__truediv__': <slot wrapper '__truediv__' of 'int' objects>, '__rtruediv__': <slot wrapper '__rtruediv__' of 'int' objects>, '__index__': <slot wrapper '__index__' of 'int' objects>, '__new__': <built-in method __new__ of type object at 0x10df98530>, 'conjugate': <method 'conjugate' of 'int' objects>, 'bit_length': <method 'bit_length' of 'int' objects>, 'to_bytes': <method 'to_bytes' of 'int' objects>, 'from_bytes': <method 'from_bytes' of 'int' objects>, '__trunc__': <method '__trunc__' of 'int' objects>, '__floor__': <method '__floor__' of 'int' objects>, '__ceil__': <method '__ceil__' of 'int' objects>, '__round__': <method '__round__' of 'int' objects>, '__getnewargs__': <method '__getnewargs__' of 'int' objects>, '__format__': <method '__format__' of 'int' objects>, '__sizeof__': <method '__sizeof__' of 'int' objects>, 'real': <attribute 'real' of 'int' objects>, 'imag': <attribute 'imag' of 'int' objects>, 'numerator': <attribute 'numerator' of 'int' objects>, 'denominator': <attribute 'denominator' of 'int' objects>, '__doc__': \"int(x=0) -> integer\\nint(x, base=10) -> integer\\n\\nConvert a number or string to an integer, or return 0 if no arguments\\nare given.  If x is a number, return x.__int__().  For floating point\\nnumbers, this truncates towards zero.\\n\\nIf x is not a number or if base is given, then x must be a string,\\nbytes, or bytearray instance representing an integer literal in the\\ngiven base.  The literal can be preceded by '+' or '-' and be surrounded\\nby whitespace.  The base defaults to 10.  Valid bases are 0 and 2-36.\\nBase 0 means to interpret the base from the string as an integer literal.\\n>>> int('0b100', base=0)\\n4\"}\n"
     ]
    }
   ],
   "source": [
    "# Vars: returns the __dict__ attribute for a module, class, instance, or any\n",
    "#       other object with a __dict__ attribute.\n",
    "\n",
    "print(vars(int))"
   ]
  },
  {
   "cell_type": "markdown",
   "metadata": {},
   "source": [
    "# Generators"
   ]
  },
  {
   "cell_type": "code",
   "execution_count": 4,
   "metadata": {},
   "outputs": [
    {
     "name": "stdout",
     "output_type": "stream",
     "text": [
      "1\n",
      "hello from outside of the function.\n",
      "hello from inside the function.\n",
      "3\n",
      "hello from outside of the function.\n",
      "hello from inside the function.\n",
      "5\n",
      "hello from outside of the function.\n",
      "hello from inside the function.\n"
     ]
    }
   ],
   "source": [
    "# Yield: a keyword that allows programmers to write generators. Its execution\n",
    "#        will hault until the next time it's been called (loop iteration).\n",
    "\n",
    "def generate(nums):\n",
    "    for n in nums:\n",
    "        yield n\n",
    "        print(\"hello from inside the function.\")\n",
    "\n",
    "my_list_1 = [1, 3, 5]\n",
    "\n",
    "for n in generate(my_list_1):\n",
    "    print(n)\n",
    "    print(\"hello from outside of the function.\")\n",
    "\n",
    "# Note the order of the print statements and result."
   ]
  },
  {
   "cell_type": "code",
   "execution_count": 5,
   "metadata": {},
   "outputs": [
    {
     "name": "stdout",
     "output_type": "stream",
     "text": [
      "========================================================================\n",
      " next(iterator[, default])\n",
      "\n",
      "Return the next item from the iterator. If default is given and the iterator\n",
      "is exhausted, it is returned instead of raising StopIteration. \n",
      "========================================================================\n",
      "1\n",
      "hello from inside the function.\n",
      "3\n",
      "hello from inside the function.\n",
      "5\n"
     ]
    }
   ],
   "source": [
    "# Next: retrieve the next element from the generator\n",
    "\n",
    "print(separator_1, next.__doc__, separator_2)\n",
    "\n",
    "test = generate(my_list_1)\n",
    "print(next(test))\n",
    "print(next(test))\n",
    "print(next(test))"
   ]
  },
  {
   "cell_type": "code",
   "execution_count": 6,
   "metadata": {},
   "outputs": [
    {
     "name": "stdout",
     "output_type": "stream",
     "text": [
      "========================================================================\n",
      " zip(iter1 [,iter2 [...]]) --> zip object\n",
      "\n",
      "Return a zip object whose .__next__() method returns a tuple where\n",
      "the i-th element comes from the i-th iterable argument.  The .__next__()\n",
      "method continues until the shortest iterable in the argument sequence\n",
      "is exhausted and then it raises StopIteration. \n",
      "========================================================================\n",
      "(1, 6)\n",
      "(2, 7)\n",
      "(3, 8)\n",
      "(4, 9)\n",
      "(5, 10)\n",
      "(1, 6, 11)\n",
      "(2, 7, 12)\n",
      "(3, 8, 13)\n",
      "(4, 9, 14)\n"
     ]
    }
   ],
   "source": [
    "# Zip: returns a generator that produces tuples of element pair.\n",
    "\n",
    "print(separator_1, zip.__doc__, separator_2)\n",
    "\n",
    "my_list_1 = [1, 2, 3, 4, 5]\n",
    "my_list_2 = [6, 7, 8, 9, 10]\n",
    "for n in zip(my_list_1, my_list_2):\n",
    "    print(n)\n",
    "\n",
    "# It can take as many iterable type objects as possible\n",
    "my_list_3 = [11, 12, 13, 14]\n",
    "for n in zip(my_list_1, my_list_2, my_list_3):\n",
    "    print(n)\n",
    "\n",
    "# Notice that the result only has 4 tuples this time, which is the length of\n",
    "# the smallest iterable."
   ]
  },
  {
   "cell_type": "code",
   "execution_count": 7,
   "metadata": {},
   "outputs": [
    {
     "name": "stdout",
     "output_type": "stream",
     "text": [
      "========================================================================\n",
      " map(func, *iterables) --> map object\n",
      "\n",
      "Make an iterator that computes the function using arguments from\n",
      "each of the iterables.  Stops when the shortest iterable is exhausted. \n",
      "========================================================================\n",
      "2\n",
      "4\n",
      "6\n",
      "8\n",
      "10\n"
     ]
    }
   ],
   "source": [
    "# Map: returns a generator that takes a iterable and apply the function\n",
    "#      to each element.\n",
    "\n",
    "print(separator_1, map.__doc__, separator_2)\n",
    "\n",
    "def double(x):\n",
    "    return x * 2\n",
    "\n",
    "my_list_1 = [1, 2, 3, 4, 5]\n",
    "\n",
    "for n in map(double, my_list_1):\n",
    "    print(n)"
   ]
  },
  {
   "cell_type": "code",
   "execution_count": 8,
   "metadata": {},
   "outputs": [
    {
     "name": "stdout",
     "output_type": "stream",
     "text": [
      "========================================================================\n",
      " filter(function or None, iterable) --> filter object\n",
      "\n",
      "Return an iterator yielding those items of iterable for which function(item)\n",
      "is true. If function is None, return the items that are true. \n",
      "========================================================================\n",
      "2\n",
      "4\n",
      "2\n"
     ]
    }
   ],
   "source": [
    "# Filter: keeps elements that satisfy the function (return True when applied).\n",
    "\n",
    "print(separator_1, filter.__doc__, separator_2)\n",
    "\n",
    "def even(x):\n",
    "    if x % 2 == 0:\n",
    "        return True\n",
    "    return False\n",
    "\n",
    "my_list_1 = [2, 4, 1, 2, 3, 1]\n",
    "\n",
    "for n in filter(even, my_list_1):\n",
    "    print(n)"
   ]
  },
  {
   "cell_type": "code",
   "execution_count": 9,
   "metadata": {},
   "outputs": [
    {
     "name": "stdout",
     "output_type": "stream",
     "text": [
      "========================================================================\n",
      " enumerate(iterable[, start]) -> iterator for index, value of iterable\n",
      "\n",
      "Return an enumerate object.  iterable must be another object that supports\n",
      "iteration.  The enumerate object yields pairs containing a count (from\n",
      "start, which defaults to zero) and a value yielded by the iterable argument.\n",
      "enumerate is useful for obtaining an indexed list:\n",
      "    (0, seq[0]), (1, seq[1]), (2, seq[2]), ... \n",
      "========================================================================\n",
      "0 oh\n",
      "1 my\n",
      "2 gosh!\n"
     ]
    }
   ],
   "source": [
    "# Enumerate: returns a generator that gives the a tuple that contains the\n",
    "#            order of the element and the element itself.\n",
    "\n",
    "print(separator_1, enumerate.__doc__, separator_2)\n",
    "\n",
    "my_list_1 = [\"oh\", \"my\", \"gosh!\"]\n",
    "\n",
    "for index, content in enumerate(my_list_1):\n",
    "    print(index, content)"
   ]
  },
  {
   "cell_type": "markdown",
   "metadata": {},
   "source": [
    "# List"
   ]
  },
  {
   "cell_type": "code",
   "execution_count": 10,
   "metadata": {},
   "outputs": [
    {
     "name": "stdout",
     "output_type": "stream",
     "text": [
      "10\n",
      "1\n",
      "45\n"
     ]
    }
   ],
   "source": [
    "# Max, Min, and Sum\n",
    "\n",
    "my_list = [10, 3, 9, 8, 6, 1, 2, 1, 5]\n",
    "print(max(my_list))\n",
    "print(min(my_list))\n",
    "print(sum(my_list))"
   ]
  },
  {
   "cell_type": "code",
   "execution_count": 11,
   "metadata": {},
   "outputs": [
    {
     "name": "stdout",
     "output_type": "stream",
     "text": [
      "========================================================================\n",
      " Return True if bool(x) is True for all values x in the iterable.\n",
      "\n",
      "If the iterable is empty, return True. \n",
      "========================================================================\n",
      "========================================================================\n",
      " Return True if bool(x) is True for any x in the iterable.\n",
      "\n",
      "If the iterable is empty, return False. \n",
      "========================================================================\n",
      "False True\n",
      "True True\n"
     ]
    }
   ],
   "source": [
    "# All: check if all elements are True (not None, not 0, not empty, etc...).\n",
    "# Any: check if any element is True.\n",
    "\n",
    "print(separator_1, all.__doc__, separator_2)\n",
    "print(separator_1, any.__doc__, separator_2)\n",
    "\n",
    "my_list_1 = [1, 2, 1, 0, 3, 5]\n",
    "my_list_2 = [True, True, True, True]\n",
    "\n",
    "print(all(my_list_1), all(my_list_2))\n",
    "print(any(my_list_1), any(my_list_2))"
   ]
  },
  {
   "cell_type": "markdown",
   "metadata": {},
   "source": [
    "# Math"
   ]
  },
  {
   "cell_type": "code",
   "execution_count": 12,
   "metadata": {},
   "outputs": [
    {
     "name": "stdout",
     "output_type": "stream",
     "text": [
      "========================================================================\n",
      " Return the tuple (x//y, x%y).  Invariant: div*y + mod == x. \n",
      "========================================================================\n",
      "(1, 2)\n"
     ]
    }
   ],
   "source": [
    "# Divmod: returns a tuple of division result.\n",
    "\n",
    "print(separator_1, divmod.__doc__, separator_2)\n",
    "\n",
    "print(divmod(7, 5))"
   ]
  },
  {
   "cell_type": "markdown",
   "metadata": {},
   "source": [
    "# String"
   ]
  },
  {
   "cell_type": "code",
   "execution_count": 13,
   "metadata": {},
   "outputs": [
    {
     "name": "stdout",
     "output_type": "stream",
     "text": [
      "========================================================================\n",
      " Return value.__format__(format_spec)\n",
      "\n",
      "format_spec defaults to the empty string.\n",
      "See the Format Specification Mini-Language section of help('FORMATTING') for\n",
      "details. \n",
      "========================================================================\n",
      "I wish I made an 100 on my test so I can get an A in this class.\n",
      "I wish I made an 100 on my test so I can get an A in this class too.\n"
     ]
    }
   ],
   "source": [
    "# Format\n",
    "\n",
    "print(separator_1, format.__doc__, separator_2)\n",
    "\n",
    "my_int = 100\n",
    "my_char = 'A'\n",
    "\n",
    "my_str = \"I wish I made an {} on my test so I can get an {} in this class.\".format(my_int, my_char)\n",
    "print(my_str)\n",
    "\n",
    "# equivalently, you could do this...\n",
    "print(f\"I wish I made an {my_int} on my test so I can get an {my_char} in this class too.\")"
   ]
  },
  {
   "cell_type": "code",
   "execution_count": 14,
   "metadata": {},
   "outputs": [
    {
     "name": "stdout",
     "output_type": "stream",
     "text": [
      "========================================================================\n",
      " Return the Unicode code point for a one-character string. \n",
      "========================================================================\n",
      "========================================================================\n",
      " Return a Unicode string of one character with ordinal i; 0 <= i <= 0x10ffff. \n",
      "========================================================================\n",
      "116\n",
      "t\n"
     ]
    }
   ],
   "source": [
    "# Ord: convert a character to its ASCII code.\n",
    "# Chr: convert ASCII code to character.\n",
    "\n",
    "print(separator_1, ord.__doc__, separator_2)\n",
    "print(separator_1, chr.__doc__, separator_2)\n",
    "\n",
    "print(ord('t'))\n",
    "print(chr(ord('t')))"
   ]
  },
  {
   "cell_type": "markdown",
   "metadata": {},
   "source": [
    "# Class"
   ]
  },
  {
   "cell_type": "code",
   "execution_count": 15,
   "metadata": {},
   "outputs": [
    {
     "name": "stdout",
     "output_type": "stream",
     "text": [
      "None\n",
      "Something\n"
     ]
    },
    {
     "ename": "AttributeError",
     "evalue": "'C1' object has no attribute '_x'",
     "output_type": "error",
     "traceback": [
      "\u001b[0;31m---------------------------------------------------------------------------\u001b[0m",
      "\u001b[0;31mAttributeError\u001b[0m                            Traceback (most recent call last)",
      "\u001b[0;32m<ipython-input-15-afa4c5b76349>\u001b[0m in \u001b[0;36m<module>\u001b[0;34m\u001b[0m\n\u001b[1;32m     38\u001b[0m \u001b[0mprint\u001b[0m\u001b[0;34m(\u001b[0m\u001b[0mc\u001b[0m\u001b[0;34m.\u001b[0m\u001b[0mx\u001b[0m\u001b[0;34m)\u001b[0m\u001b[0;34m\u001b[0m\u001b[0;34m\u001b[0m\u001b[0m\n\u001b[1;32m     39\u001b[0m \u001b[0;32mdel\u001b[0m \u001b[0mc\u001b[0m\u001b[0;34m.\u001b[0m\u001b[0mx\u001b[0m\u001b[0;34m\u001b[0m\u001b[0;34m\u001b[0m\u001b[0m\n\u001b[0;32m---> 40\u001b[0;31m \u001b[0mprint\u001b[0m\u001b[0;34m(\u001b[0m\u001b[0mc\u001b[0m\u001b[0;34m.\u001b[0m\u001b[0mx\u001b[0m\u001b[0;34m)\u001b[0m\u001b[0;34m\u001b[0m\u001b[0;34m\u001b[0m\u001b[0m\n\u001b[0m\u001b[1;32m     41\u001b[0m \u001b[0;34m\u001b[0m\u001b[0m\n\u001b[1;32m     42\u001b[0m \u001b[0;31m# The error is triggered intentionally to show that c.x has been deleted.\u001b[0m\u001b[0;34m\u001b[0m\u001b[0;34m\u001b[0m\u001b[0;34m\u001b[0m\u001b[0m\n",
      "\u001b[0;32m<ipython-input-15-afa4c5b76349>\u001b[0m in \u001b[0;36mgetx\u001b[0;34m(self)\u001b[0m\n\u001b[1;32m      4\u001b[0m \u001b[0;34m\u001b[0m\u001b[0m\n\u001b[1;32m      5\u001b[0m     \u001b[0;32mdef\u001b[0m \u001b[0mgetx\u001b[0m\u001b[0;34m(\u001b[0m\u001b[0mself\u001b[0m\u001b[0;34m)\u001b[0m\u001b[0;34m:\u001b[0m\u001b[0;34m\u001b[0m\u001b[0;34m\u001b[0m\u001b[0m\n\u001b[0;32m----> 6\u001b[0;31m         \u001b[0;32mreturn\u001b[0m \u001b[0mself\u001b[0m\u001b[0;34m.\u001b[0m\u001b[0m_x\u001b[0m\u001b[0;34m\u001b[0m\u001b[0;34m\u001b[0m\u001b[0m\n\u001b[0m\u001b[1;32m      7\u001b[0m \u001b[0;34m\u001b[0m\u001b[0m\n\u001b[1;32m      8\u001b[0m     \u001b[0;32mdef\u001b[0m \u001b[0msetx\u001b[0m\u001b[0;34m(\u001b[0m\u001b[0mself\u001b[0m\u001b[0;34m,\u001b[0m \u001b[0mvalue\u001b[0m\u001b[0;34m)\u001b[0m\u001b[0;34m:\u001b[0m\u001b[0;34m\u001b[0m\u001b[0;34m\u001b[0m\u001b[0m\n",
      "\u001b[0;31mAttributeError\u001b[0m: 'C1' object has no attribute '_x'"
     ]
    }
   ],
   "source": [
    "class C1:\n",
    "    def __init__(self):\n",
    "        self._x = None\n",
    "\n",
    "    def getx(self):\n",
    "        return self._x\n",
    "\n",
    "    def setx(self, value):\n",
    "        self._x = value\n",
    "\n",
    "    def delx(self):\n",
    "        del self._x\n",
    "\n",
    "    x = property(getx, setx, delx, \"I'm the 'x' property.\")\n",
    "    \n",
    "############# Equivalent form using decorator #############\n",
    "\n",
    "class C2:\n",
    "    def __init__(self):\n",
    "        self._x = None\n",
    "\n",
    "    @property\n",
    "    def x(self):\n",
    "        \"\"\"I'm the 'x' property.\"\"\"\n",
    "        return self._x\n",
    "\n",
    "    @x.setter\n",
    "    def x(self, value):\n",
    "        self._x = value\n",
    "\n",
    "    @x.deleter\n",
    "    def x(self):\n",
    "        del self._x\n",
    "\n",
    "c = C1()\n",
    "print(c.x)\n",
    "c.x = \"Something\"\n",
    "print(c.x)\n",
    "del c.x\n",
    "print(c.x)\n",
    "\n",
    "# The error is triggered intentionally to show that c.x has been deleted."
   ]
  },
  {
   "cell_type": "code",
   "execution_count": 16,
   "metadata": {},
   "outputs": [
    {
     "name": "stdout",
     "output_type": "stream",
     "text": [
      "5\n",
      "10\n",
      "15\n"
     ]
    }
   ],
   "source": [
    "# Instance method, class method, and static method\n",
    "# Read details here: https://realpython.com/instance-class-and-static-methods-demystified/#instance-methods\n",
    "\n",
    "class C3:\n",
    "    x = 5\n",
    "    \n",
    "    def __init__(self):\n",
    "        self.x = 15\n",
    "    \n",
    "    def output(self):\n",
    "        print(self.x)\n",
    "    \n",
    "    @classmethod\n",
    "    def display(cls):\n",
    "        print(cls.x)\n",
    "    \n",
    "    @staticmethod\n",
    "    def show():\n",
    "        print(10)\n",
    "\n",
    "c = C3()\n",
    "c.display()   # calling class method and accessing class data member\n",
    "c.show()      # calling static method and accessing no data\n",
    "c.output()    # calling instance method and accessing its attribute"
   ]
  },
  {
   "cell_type": "code",
   "execution_count": null,
   "metadata": {},
   "outputs": [],
   "source": []
  }
 ],
 "metadata": {
  "kernelspec": {
   "display_name": "Python 3",
   "language": "python",
   "name": "python3"
  },
  "language_info": {
   "codemirror_mode": {
    "name": "ipython",
    "version": 3
   },
   "file_extension": ".py",
   "mimetype": "text/x-python",
   "name": "python",
   "nbconvert_exporter": "python",
   "pygments_lexer": "ipython3",
   "version": "3.6.7"
  }
 },
 "nbformat": 4,
 "nbformat_minor": 2
}
