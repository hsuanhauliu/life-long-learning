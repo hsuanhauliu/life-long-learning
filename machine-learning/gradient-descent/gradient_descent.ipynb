{
 "cells": [
  {
   "cell_type": "markdown",
   "metadata": {},
   "source": [
    "# Gradient Descent\n",
    "\n",
    "Gradient descent is a machine learning technique used to minimizing cost functions. Here is an excellent article about gradient descent and I highly recommend reading [it](https://towardsdatascience.com/gradient-descent-in-a-nutshell-eaf8c18212f0).\n",
    "\n",
    "This program is written to see the effect of learning rate to the speed of convergence. The function that we'll use for this exercise is f(x) = 0.5(x^2 - y)^2 + 0.5(x - 1)^2. The obvious local minimum is (1, 1), so we'll set the initial x and y to something different."
   ]
  },
  {
   "cell_type": "code",
   "execution_count": 1,
   "metadata": {},
   "outputs": [
    {
     "data": {
      "text/plain": [
       "<Figure size 640x480 with 1 Axes>"
      ]
     },
     "metadata": {},
     "output_type": "display_data"
    }
   ],
   "source": [
    "import numpy as np\n",
    "from mpl_toolkits.mplot3d import Axes3D\n",
    "import matplotlib.pyplot as plt\n",
    "\n",
    "# f(x) = 0.5(x^2 - y)^2 + 0.5(x - 1)^2\n",
    "def cost_function(x, y):\n",
    "  return 0.5 * (x**2 - y)**2 + 0.5 * (x - 1)**2\n",
    "\n",
    "fig = plt.figure()\n",
    "ax = fig.add_subplot(111, projection='3d')\n",
    "x = y = np.arange(-3.0, 3.0, 0.05)\n",
    "X, Y = np.meshgrid(x, y)\n",
    "zs = np.array([cost_function(x,y) for x,y in zip(np.ravel(X), np.ravel(Y))])\n",
    "Z = zs.reshape(X.shape)\n",
    "\n",
    "ax.plot_surface(X, Y, Z)\n",
    "\n",
    "ax.set_xlabel('X Label')\n",
    "ax.set_ylabel('Y Label')\n",
    "ax.set_zlabel('Z Label')\n",
    "\n",
    "plt.show()"
   ]
  },
  {
   "cell_type": "markdown",
   "metadata": {},
   "source": [
    "Since juypter cannot display the 3D plot, I'll put a screenshot here instead.\n",
    "![screenshot](screenshot.jpg \"screenshot\")"
   ]
  },
  {
   "cell_type": "markdown",
   "metadata": {},
   "source": [
    "Take partial derivatives of the function (cost_function) with respect to x and y."
   ]
  },
  {
   "cell_type": "code",
   "execution_count": 2,
   "metadata": {},
   "outputs": [],
   "source": [
    "def dx(x, y):\n",
    "    return 2.0 * x * (x**2 - y) + (x - 1)\n",
    "\n",
    "def dy(x, y):\n",
    "    return -(float(x)**2 - y)"
   ]
  },
  {
   "cell_type": "markdown",
   "metadata": {},
   "source": [
    "Now we can write our gradient descent algorithm and test different learning rate. We want to stop when the derivatives are close to 0, and update variables of f(x) with the following rule: x = x - learning_rate * df/dx"
   ]
  },
  {
   "cell_type": "code",
   "execution_count": 3,
   "metadata": {},
   "outputs": [],
   "source": [
    "import math\n",
    "\n",
    "def gradient_descent(x=0, y=0, learning_rate=0.0001, threshold=0.001, max_iterations=100000):\n",
    "    # calculate gradient for each dimension then record the largest one\n",
    "    gradient_x = dx(x, y)\n",
    "    gradient_y = dy(x, y)\n",
    "    try:\n",
    "        current_gradient_squared = math.sqrt(gradient_x ** 2 + gradient_y ** 2)\n",
    "    except Exception as e:\n",
    "        print(\"Number too large\" + str(e))\n",
    "        return\n",
    "    iteration_counter = 0\n",
    "    gradients = [current_gradient_squared]\n",
    "    \n",
    "    # keep looping until gradient is below threshold, or below maximum iteration count\n",
    "    while current_gradient_squared > threshold and iteration_counter < max_iterations:\n",
    "        iteration_counter += 1\n",
    "        \n",
    "        # update our positions in each dimension\n",
    "        x = x - learning_rate * gradient_x\n",
    "        y = y - learning_rate * gradient_y\n",
    "        \n",
    "        # calculate new gradient\n",
    "        gradient_x = dx(x, y)\n",
    "        gradient_y = dy(x, y)\n",
    "        try:\n",
    "            current_gradient_squared = math.sqrt(gradient_x ** 2 + gradient_y ** 2)\n",
    "        except Exception as e:\n",
    "            print(\"Number too large\" + str(e))\n",
    "            return\n",
    "        gradients.append(current_gradient_squared)\n",
    "    \n",
    "    print \"Number of iterations:\", iteration_counter\n",
    "    \n",
    "    return x, y, gradients"
   ]
  },
  {
   "cell_type": "markdown",
   "metadata": {},
   "source": [
    "Now, let's try out different learning rates and see the effects. We will write a simple function that takes in a list of learning rates and plot out the the first 30 gradients for each example."
   ]
  },
  {
   "cell_type": "code",
   "execution_count": 4,
   "metadata": {},
   "outputs": [
    {
     "name": "stdout",
     "output_type": "stream",
     "text": [
      "Number of iterations: 3591\n",
      "Learning rate: 0.01 , Learned (x, y): (1.022683922931348, 1.0551254200458973)\n",
      "Number of iterations: 36120\n",
      "Learning rate: 0.001 , Learned (x, y): (1.0227161328470165, 1.055204228849138)\n",
      "Number of iterations: 100000\n",
      "Learning rate: 0.0001 , Learned (x, y): (1.6997327319760724, 3.07927909384098)\n"
     ]
    },
    {
     "data": {
      "image/png": "[encoded data removed]",
      "text/plain": [
       "<Figure size 432x288 with 1 Axes>"
      ]
     },
     "metadata": {},
     "output_type": "display_data"
    }
   ],
   "source": [
    "def test_learning(function, x, y, learning_rates, threshold, max_iterations):\n",
    "    iterations = range(30)\n",
    "    for rate in learning_rates:\n",
    "        final_x, final_y, gradients = function(x, y, rate, threshold, max_iterations)\n",
    "        plt.plot(iterations, gradients[:30])\n",
    "        print \"Learning rate:\", rate, \", Learned (x, y):\", (final_x, final_y)\n",
    "\n",
    "test_rates = [0.01, 0.001, 0.0001]\n",
    "test_learning(gradient_descent, 5, 5, test_rates, 0.01, 100000)\n",
    "plt.show()"
   ]
  },
  {
   "cell_type": "markdown",
   "metadata": {},
   "source": [
    "We can try a larger learning rate and see what would happen."
   ]
  },
  {
   "cell_type": "code",
   "execution_count": 5,
   "metadata": {},
   "outputs": [
    {
     "name": "stdout",
     "output_type": "stream",
     "text": [
      "Number too large(34, 'Result too large')\n"
     ]
    }
   ],
   "source": [
    "gradient_descent(x=5, y=5, learning_rate=0.1)"
   ]
  },
  {
   "cell_type": "markdown",
   "metadata": {},
   "source": [
    "As we can see from the result, it is important to choose an appropreiate learning rate. If it's too big, it might never converge since it will just step over the local minimum. In fact, the example above actually shows that not only did it not converge, both x and y actually goes to infinity. This is due to large gradient and as we step over our desired values, it ended up at a higher value but on the opposite side of where we started. Read why big learning rate can lead to divergence [here](https://stats.stackexchange.com/questions/315664/gradient-descent-explodes-if-learning-rate-is-too-large). If it's too small, it will take a lot longer to converge."
   ]
  }
 ],
 "metadata": {
  "kernelspec": {
   "display_name": "Python 2",
   "language": "python",
   "name": "python2"
  },
  "language_info": {
   "codemirror_mode": {
    "name": "ipython",
    "version": 2
   },
   "file_extension": ".py",
   "mimetype": "text/x-python",
   "name": "python",
   "nbconvert_exporter": "python",
   "pygments_lexer": "ipython2",
   "version": "2.7.14"
  }
 },
 "nbformat": 4,
 "nbformat_minor": 2
}
