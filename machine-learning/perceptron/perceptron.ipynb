{
 "cells": [
  {
   "cell_type": "markdown",
   "metadata": {},
   "source": [
    "# Perceptron"
   ]
  },
  {
   "cell_type": "markdown",
   "metadata": {},
   "source": [
    "A linear model for binary classification.\n",
    "\n",
    "- Import numpy for vector calculations and pylab for plotting."
   ]
  },
  {
   "cell_type": "code",
   "execution_count": 1,
   "metadata": {},
   "outputs": [],
   "source": [
    "import numpy as np\n",
    "import pylab as plt"
   ]
  },
  {
   "cell_type": "markdown",
   "metadata": {},
   "source": [
    "-  Make up some data that are linear separable."
   ]
  },
  {
   "cell_type": "code",
   "execution_count": 2,
   "metadata": {},
   "outputs": [
    {
     "data": {
      "image/png": "[encoded data removed]",
      "text/plain": [
       "<Figure size 432x288 with 1 Axes>"
      ]
     },
     "metadata": {},
     "output_type": "display_data"
    }
   ],
   "source": [
    "classes = [([1, 2, 9], 1), ([1, 1, 7], 1), ([1, 5, 8], 1),\n",
    "           ([1, 3, 6], 1), ([1, 1, 5], 1), ([1, 3, 8], 1),\n",
    "           ([1, 3, 1], -1), ([1, 5, 1], -1), ([1, 8, 1], -1),\n",
    "           ([1, 6, 2], -1), ([1, 5, 3], -1)]\n",
    "\n",
    "# for plotting\n",
    "class_pos_x = [i[0][1] for i in classes[:6]]\n",
    "class_pos_y = [i[0][2] for i in classes[:6]]\n",
    "class_neg_x = [i[0][1] for i in classes[6:]]\n",
    "class_neg_y = [i[0][2] for i in classes[6:]]\n",
    "\n",
    "plt.scatter(class_pos_x, class_pos_y)\n",
    "plt.scatter(class_neg_x, class_neg_y)\n",
    "plt.show()"
   ]
  },
  {
   "cell_type": "markdown",
   "metadata": {},
   "source": [
    "- Initialize a weight vector w = (w0, w1, w2)."
   ]
  },
  {
   "cell_type": "code",
   "execution_count": 3,
   "metadata": {},
   "outputs": [],
   "source": [
    "w = np.array([0, 0, 0])"
   ]
  },
  {
   "cell_type": "markdown",
   "metadata": {},
   "source": [
    "- Define the activation-function."
   ]
  },
  {
   "cell_type": "code",
   "execution_count": 4,
   "metadata": {},
   "outputs": [],
   "source": [
    "def g(x):\n",
    "    if x > 0:\n",
    "        return 1\n",
    "    return -1"
   ]
  },
  {
   "cell_type": "markdown",
   "metadata": {},
   "source": [
    "- Finally, run through every sample until convergence. That is, we need to make sure that every point in the training example is classified correctly before termination. The update rule for perceptron is defined as wnew <- wold + yn * xn"
   ]
  },
  {
   "cell_type": "code",
   "execution_count": 5,
   "metadata": {},
   "outputs": [
    {
     "name": "stdout",
     "output_type": "stream",
     "text": [
      "Weight vector: [-1 -6  7]\n"
     ]
    }
   ],
   "source": [
    "not_converged = True\n",
    "while not_converged:\n",
    "    not_converged = False\n",
    "    for x, y in classes:\n",
    "        x_vec = np.array(x)\n",
    "        if g(w.dot(x_vec)) != y:\n",
    "            not_converged = True\n",
    "            w += y * x_vec\n",
    "            \n",
    "# display weight vector\n",
    "print \"Weight vector:\", w"
   ]
  },
  {
   "cell_type": "markdown",
   "metadata": {},
   "source": [
    "- We can plot the decision boundary to see the result."
   ]
  },
  {
   "cell_type": "code",
   "execution_count": 6,
   "metadata": {},
   "outputs": [
    {
     "data": {
      "image/png": "[encoded data removed]",
      "text/plain": [
       "<Figure size 432x288 with 1 Axes>"
      ]
     },
     "metadata": {},
     "output_type": "display_data"
    }
   ],
   "source": [
    "line_x = np.linspace(0,10,2)\n",
    "b = float(-w[0])/w[2]\n",
    "m = float(-w[1])/w[2]\n",
    "\n",
    "plt.scatter(class_pos_x, class_pos_y)\n",
    "plt.scatter(class_neg_x, class_neg_y)\n",
    "plt.plot(line_x, b + m * line_x, '-')\n",
    "plt.show()"
   ]
  }
 ],
 "metadata": {
  "kernelspec": {
   "display_name": "Python 2",
   "language": "python",
   "name": "python2"
  },
  "language_info": {
   "codemirror_mode": {
    "name": "ipython",
    "version": 2
   },
   "file_extension": ".py",
   "mimetype": "text/x-python",
   "name": "python",
   "nbconvert_exporter": "python",
   "pygments_lexer": "ipython2",
   "version": "2.7.14"
  }
 },
 "nbformat": 4,
 "nbformat_minor": 2
}
